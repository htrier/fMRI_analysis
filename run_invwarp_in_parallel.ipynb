{
 "cells": [
  {
   "cell_type": "code",
   "execution_count": null,
   "id": "8d60684d",
   "metadata": {},
   "outputs": [],
   "source": [
    "import glob\n",
    "import subprocess\n",
    "import multiprocess as mp\n",
    "from os.path import exists\n",
    "\n",
    "print(\"Number of CPUs available:\", mp.cpu_count())\n",
    "nCores = 8\n",
    "\n",
    "all_subj_path = '/Volumes/MyPassport/Hailey_data_preproc/fMRI_data/preprocess/'\n",
    "exclude = ['103']\n",
    "all_subj_dir = [x for x in glob.glob(all_subj_path + 'sub*') if not any(j in x for j in exclude)]"
   ]
  },
  {
   "cell_type": "code",
   "execution_count": null,
   "id": "81eaae24",
   "metadata": {},
   "outputs": [],
   "source": [
    "def runInvwarp(subj_path):\n",
    "    subj_label=subj_path.split('/')[-1]\n",
    "    prepro_feat_dir = glob.glob(subj_path + '/prepro*.feat')[0]\n",
    "    highres=prepro_feat_dir+'/reg/highres.nii.gz'\n",
    "    highres2standard=prepro_feat_dir+'/reg/highres2standard_warp.nii.gz';\n",
    "    standard2highres=prepro_feat_dir+'/reg/standard2highres_warp.nii.gz';\n",
    "    \n",
    "    if not exists(standard2highres):\n",
    "        subprocess.check_call(['invwarp','-w',highres2standard,'-o',standard2highres,'-r',highres])"
   ]
  },
  {
   "cell_type": "code",
   "execution_count": null,
   "id": "55791536",
   "metadata": {},
   "outputs": [],
   "source": [
    "with mp.Pool(nCores) as pool:\n",
    "    pool.map(runInvwarp, all_subj_dir[16:])"
   ]
  }
 ],
 "metadata": {
  "kernelspec": {
   "display_name": "Python 3 (ipykernel)",
   "language": "python",
   "name": "python3"
  },
  "language_info": {
   "codemirror_mode": {
    "name": "ipython",
    "version": 3
   },
   "file_extension": ".py",
   "mimetype": "text/x-python",
   "name": "python",
   "nbconvert_exporter": "python",
   "pygments_lexer": "ipython3",
   "version": "3.9.10"
  }
 },
 "nbformat": 4,
 "nbformat_minor": 5
}
