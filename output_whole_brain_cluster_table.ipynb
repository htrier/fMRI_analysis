{
 "cells": [
  {
   "cell_type": "code",
   "execution_count": null,
   "id": "505f4005",
   "metadata": {},
   "outputs": [],
   "source": [
    "import glob\n",
    "import subprocess\n",
    "from os.path import exists\n",
    "import pandas as pd\n",
    "\n",
    "group_stats_path = '/Volumes/MyPassport/Hailey_data_preproc/fMRI_data/group_analyses/group_stats_3May22_N23_motionRegressors_Z3.1_p0.001_FLAME1+2_noTempDerivs_modelv3.gfeat/'\n",
    "all_zstat_dir = glob.glob(group_stats_path + 'cope*.feat')"
   ]
  },
  {
   "cell_type": "code",
   "execution_count": null,
   "id": "9f4643d1",
   "metadata": {},
   "outputs": [],
   "source": [
    "def format_cluster_output(output, zstat_num, stat_type):\n",
    "    # output = raw output of cluster function;\n",
    "    # zstat_num = number corresponding to cope image\n",
    "    # zstat_type = \"activation\" or \"deactivation\", depending on type of statistical image\n",
    "    t = [x.split('\\t') for x in output.decode('utf-8').split('\\n')]\n",
    "    t = pd.DataFrame(t[1:-1], columns=t[0]) # omit first and last lines; these are col names & blank line respectively\n",
    "    t['zstat'] = zstat_num\n",
    "    t['stat_type'] = stat_type\n",
    "    return t"
   ]
  },
  {
   "cell_type": "code",
   "execution_count": null,
   "id": "178fc635",
   "metadata": {},
   "outputs": [],
   "source": [
    "all_cluster_stats = pd.DataFrame(columns=['zstat','stat_type','Cluster Index', 'Voxels', 'MAX', 'MAX X (vox)', 'MAX Y (vox)',\n",
    "       'MAX Z (vox)', 'COG X (vox)', 'COG Y (vox)', 'COG Z (vox)'])\n",
    "for path in all_zstat_dir:\n",
    "    zstat_num = int(path.split('/')[-1].strip('.feat').strip('cope'))\n",
    "    # print(\"Running cluster stats for zstat \", zstat_num)\n",
    "\n",
    "    im1 = path + '/stats/zstat1.nii.gz'\n",
    "    im2 = path + '/stats/zstat2.nii.gz'\n",
    "    \n",
    "    if exists(im1) and exists(im2):\n",
    "        output = subprocess.check_output(['cluster','-i',im1,'-t','0.0001'])\n",
    "        t1 = format_cluster_output(output, zstat_num, 'activation')\n",
    "\n",
    "        output = subprocess.check_output(['cluster','-i',im2,'-t','0.0001'])\n",
    "        t2 = format_cluster_output(output, zstat_num, 'deactivation')\n",
    "        \n",
    "        all_cluster_stats = pd.concat([all_cluster_stats, t1], ignore_index=True)\n",
    "        all_cluster_stats = pd.concat([all_cluster_stats, t2], ignore_index=True)"
   ]
  },
  {
   "cell_type": "code",
   "execution_count": null,
   "id": "b0aa061a",
   "metadata": {},
   "outputs": [],
   "source": [
    "# Constrain to only the top 10 biggest clusters from each zstat image\n",
    "all_cluster_stats['Cluster Index'] = [int(x) for x in all_cluster_stats['Cluster Index']]\n",
    "top_clusters = all_cluster_stats.loc[all_cluster_stats['Cluster Index']<11,:]\n",
    "top_clusters = top_clusters.sort_values(by=['zstat','Cluster Index','stat_type'])\n",
    "top_clusters = top_clusters.reset_index()\n",
    "top_clusters"
   ]
  },
  {
   "cell_type": "code",
   "execution_count": null,
   "id": "f6e0c1e9",
   "metadata": {},
   "outputs": [],
   "source": [
    "# Save to group feat path\n",
    "top_clusters.loc[top_clusters.stat_type=='activation',:].to_csv(group_stats_path+'/activation-cluster-stats-top10-thresh0.0001.csv')\n",
    "top_clusters.loc[top_clusters.stat_type=='deactivation',:].to_csv(group_stats_path+'/deactivation-cluster-stats-top10-thresh0.0001.csv')"
   ]
  }
 ],
 "metadata": {
  "kernelspec": {
   "display_name": "Python 3 (ipykernel)",
   "language": "python",
   "name": "python3"
  },
  "language_info": {
   "codemirror_mode": {
    "name": "ipython",
    "version": 3
   },
   "file_extension": ".py",
   "mimetype": "text/x-python",
   "name": "python",
   "nbconvert_exporter": "python",
   "pygments_lexer": "ipython3",
   "version": "3.9.10"
  }
 },
 "nbformat": 4,
 "nbformat_minor": 5
}
