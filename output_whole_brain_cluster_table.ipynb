{
 "cells": [
  {
   "cell_type": "code",
   "execution_count": null,
   "id": "505f4005",
   "metadata": {},
   "outputs": [],
   "source": [
    "import glob\n",
    "import subprocess\n",
    "from os.path import exists\n",
    "import pandas as pd\n",
    "import numpy as np\n",
    "\n",
    "group_stats_path = '/Volumes/MyPassport/Hailey_data_preproc/fMRI_data/group_analyses/group_stats_3May22_N23_motionRegressors_Z3.1_p0.001_FLAME1+2_noTempDerivs_modelv3.gfeat/'\n",
    "all_zstat_dir = glob.glob(group_stats_path + 'cope*.feat')\n",
    "threshold = 0.001\n",
    "filter_clusters = False # print out only e.g. top 10 largest clusters?"
   ]
  },
  {
   "cell_type": "code",
   "execution_count": null,
   "id": "9f4643d1",
   "metadata": {},
   "outputs": [],
   "source": [
    "def format_cluster_output(output, zstat_num, stat_type):\n",
    "    # output = raw output of cluster function;\n",
    "    # zstat_num = number corresponding to cope image\n",
    "    # zstat_type = \"activation\" or \"deactivation\", depending on type of statistical image\n",
    "    t = [x.split('\\t') for x in output.decode('utf-8').split('\\n')]\n",
    "    t = pd.DataFrame(t[1:-1], columns=t[0]) # omit first and last lines; these are col names & blank line respectively\n",
    "    t['zstat'] = zstat_num\n",
    "    t['stat_type'] = stat_type\n",
    "    return t\n",
    "\n",
    "def add_atlas_info(df, atlas_name):\n",
    "    # df = a pandas dataframe that has been formatted by format_cluster_output()\n",
    "    # atlas_name = an fsl atlas (str)\n",
    "    df[atlas_name] = np.nan\n",
    "    for c in range(len(df)):\n",
    "        coords = ''.join([df.loc[c,\"MAX X (mm)\"]+','+df.loc[c,\"MAX Y (mm)\"]+','+df.loc[c,\"MAX Z (mm)\"]])\n",
    "        output = subprocess.check_output(['atlasquery','-a',atlas_name,'-c',coords]).decode('utf-8')\n",
    "        output = output.strip('\\n').split('<br>')[-1]\n",
    "        df.loc[c,atlas_name] = output\n",
    "    return df\n",
    "\n",
    "def get_fslstats_output(image, roi):\n",
    "    # image = path to a thresholded stats image\n",
    "    # roi = path to an roi mask\n",
    "    # Outputs: volume of overlap between image & roi, plus coordinates & value of max voxel\n",
    "    range_output = subprocess.check_output(['fslstats',image,'-k',roi,'-R'])\n",
    "    vol_output = subprocess.check_output(['fslstats',image,'-k',roi,'-V']) # get volume of nonzero voxels\n",
    "\n",
    "    coord_vox = subprocess.check_output(['fslstats',image,'-k',roi,'-x']) # get coordinates of maximum voxel\n",
    "    coord_vox = [int(x) for x in coord_vox.decode('utf-8').strip(' \\n').split(' ')] # format\n",
    "    ps = subprocess.run(['echo',str(coord_vox[0]),str(coord_vox[1]),str(coord_vox[2])], check=True, capture_output=True)\n",
    "    coord_mm = subprocess.run(['img2stdcoord','-img',image,'-std',image,'-vox'], # convert to MNI coordinates\n",
    "                      input=ps.stdout, capture_output=True)\n",
    "    coord_mm = [int(x) for x in coord_mm.stdout.decode('utf-8').strip('\\n').split(' ') if x !='']\n",
    "    \n",
    "    return range_output, vol_output, coord_mm\n",
    "\n",
    "def format_fslstats_output(range_output, vol_output, coord_mm, zstat_num, stat_type, r):\n",
    "    # range_output, vol_output, coord_mm = outputs of fslstats function;\n",
    "    # zstat_num = number corresponding to cope image\n",
    "    # zstat_type = \"activation\" or \"deactivation\", depending on type of statistical image\n",
    "    # r = str representing roi name\n",
    "    t = pd.DataFrame(columns=['zstat','stat_type','roi','min_z','max_z','n_voxels','x_mm','y_mm','z_mm'])\n",
    "    # Get range\n",
    "    range_output = range_output.decode('utf-8').strip('\\n').split(' ')\n",
    "    maxval = float(range_output[1])\n",
    "    minval = float(range_output[0])\n",
    "    if (maxval==0) & (minval==0):\n",
    "        maxval = 'N/A'\n",
    "        minval = 'N/A'\n",
    "    # Get volume\n",
    "    vol_output = float(vol_output.decode('utf-8').strip('\\n').split(' ')[0])\n",
    "\n",
    "    # Save to dataframe\n",
    "    t.loc[0,'zstat'] = zstat_num\n",
    "    t.loc[0,'stat_type'] = stat_type\n",
    "    t.loc[0,'roi'] = r\n",
    "    t.loc[0,'min_z'] = minval\n",
    "    t.loc[0,'max_z'] = maxval\n",
    "    t.loc[0,'n_voxels'] = 'N/A' if maxval=='N/A' else vol_output\n",
    "    t.loc[0,'x_mm'] = 'N/A' if maxval=='N/A' else coord_mm[0]\n",
    "    t.loc[0,'y_mm'] = 'N/A' if maxval=='N/A' else coord_mm[1]\n",
    "    t.loc[0,'z_mm'] = 'N/A' if maxval=='N/A' else coord_mm[2]\n",
    "    return t"
   ]
  },
  {
   "cell_type": "markdown",
   "id": "f0257834",
   "metadata": {},
   "source": [
    "## Method 1. Get stats from all clusters in each zstat image"
   ]
  },
  {
   "cell_type": "code",
   "execution_count": null,
   "id": "178fc635",
   "metadata": {},
   "outputs": [],
   "source": [
    "all_cluster_stats = pd.DataFrame(columns=['Cluster Index', 'Voxels', 'MAX', 'MAX X (mm)', 'MAX Y (mm)',\n",
    "       'MAX Z (mm)', 'COG X (mm)', 'COG Y (mm)', 'COG Z (mm)', 'zstat',\n",
    "       'stat_type'])\n",
    "# all_cluster_stats = pd.DataFrame(columns=['Cluster Index', 'Voxels', 'MAX', 'MAX X (vox)', 'MAX Y (vox)',\n",
    "#        'MAX Z (vox)', 'COG X (vox)', 'COG Y (vox)', 'COG Z (vox)', 'zstat',\n",
    "#        'stat_type'])\n",
    "for path in all_zstat_dir:\n",
    "    zstat_num = int(path.split('/')[-1].strip('.feat').strip('cope'))\n",
    "    # print(\"Running cluster stats for zstat \", zstat_num)\n",
    "\n",
    "    im1 = path + '/thresh_zstat1.nii.gz' # '/stats/zstat1.nii.gz'\n",
    "    im2 = path + '/thresh_zstat2.nii.gz' # '/stats/zstat2.nii.gz'\n",
    "    \n",
    "    if exists(im1) and exists(im2):\n",
    "        output = subprocess.check_output(['cluster','-i',im1,'-t',str(threshold),'--mm'])\n",
    "        t1 = format_cluster_output(output, zstat_num, 'activation')\n",
    "\n",
    "        output = subprocess.check_output(['cluster','-i',im2,'-t',str(threshold),'--mm'])\n",
    "        t2 = format_cluster_output(output, zstat_num, 'deactivation')\n",
    "        \n",
    "        all_cluster_stats = pd.concat([all_cluster_stats, t1], ignore_index=True)\n",
    "        all_cluster_stats = pd.concat([all_cluster_stats, t2], ignore_index=True)"
   ]
  },
  {
   "cell_type": "markdown",
   "id": "1a25a266",
   "metadata": {},
   "source": [
    "#### Constrain to only the top 10 biggest clusters from each zstat image"
   ]
  },
  {
   "cell_type": "code",
   "execution_count": null,
   "id": "c67e73ba",
   "metadata": {},
   "outputs": [],
   "source": [
    "if filter_clusters:\n",
    "    top_thresh = 10\n",
    "    all_cluster_stats['Cluster Index'] = [int(x) for x in all_cluster_stats['Cluster Index']]\n",
    "\n",
    "    # Sort out activations\n",
    "    top_activations = pd.DataFrame(columns=all_cluster_stats.columns)\n",
    "    for z in all_cluster_stats.zstat.unique():\n",
    "        temp = all_cluster_stats.loc[(all_cluster_stats.zstat==z) & (all_cluster_stats.stat_type=='activation'),:]\n",
    "        temp = temp.reset_index()\n",
    "        if len(temp) > 0:\n",
    "            max_cluster_val = max(temp['Cluster Index'])\n",
    "            top_cluster_inds = [x for x in range(len(temp)) if temp['Cluster Index'][x] > (max_cluster_val-top_thresh)]\n",
    "            top_activations = pd.concat([top_activations,temp.loc[top_cluster_inds,:]], ignore_index=True)\n",
    "    top_activations = top_activations.sort_values(by=['zstat','Cluster Index','stat_type'])\n",
    "    top_activations = top_activations.reset_index()\n",
    "\n",
    "    top_deactivations = pd.DataFrame(columns=all_cluster_stats.columns)\n",
    "    for z in all_cluster_stats.zstat.unique():\n",
    "        temp = all_cluster_stats.loc[(all_cluster_stats.zstat==z) & (all_cluster_stats.stat_type=='deactivation'),:]\n",
    "        temp = temp.reset_index()\n",
    "        if len(temp) > 0:\n",
    "            max_cluster_val = max(temp['Cluster Index'])\n",
    "            top_cluster_inds = [x for x in range(len(temp)) if temp['Cluster Index'][x] > (max_cluster_val-top_thresh)]\n",
    "            top_deactivations = pd.concat([top_deactivations,temp.loc[top_cluster_inds,:]], ignore_index=True)\n",
    "    top_deactivations = top_deactivations.sort_values(by=['zstat','Cluster Index','stat_type'])\n",
    "    top_deactivations = top_deactivations.reset_index()\n",
    "else:\n",
    "    top_activations = all_cluster_stats.loc[all_cluster_stats.stat_type=='activation',:]\n",
    "    top_activations = top_activations.sort_values(by=['zstat','Cluster Index','stat_type'])\n",
    "    \n",
    "    top_deactivations = all_cluster_stats.loc[all_cluster_stats.stat_type=='deactivation',:]\n",
    "    top_deactivations = top_deactivations.sort_values(by=['zstat','Cluster Index','stat_type'])"
   ]
  },
  {
   "cell_type": "markdown",
   "id": "79a74657",
   "metadata": {},
   "source": [
    "#### Optional: Add atlas information for each cluster (subcortical & cortical)"
   ]
  },
  {
   "cell_type": "code",
   "execution_count": null,
   "id": "5d978781",
   "metadata": {},
   "outputs": [],
   "source": [
    "# atlas1 = 'Harvard-Oxford Subcortical Structural Atlas'\n",
    "# atlas2 = 'Harvard-Oxford Cortical Structural Atlas'\n",
    "\n",
    "# top_activations = add_atlas_info(top_activations, atlas1)\n",
    "# top_activations = add_atlas_info(top_activations, atlas2)\n",
    "# top_deactivations = add_atlas_info(top_deactivations, atlas1)\n",
    "# top_deactivations = add_atlas_info(top_deactivations, atlas2)"
   ]
  },
  {
   "cell_type": "markdown",
   "id": "71f0ad1d",
   "metadata": {},
   "source": [
    "#### Save to file"
   ]
  },
  {
   "cell_type": "code",
   "execution_count": null,
   "id": "f6e0c1e9",
   "metadata": {},
   "outputs": [],
   "source": [
    "# Save info about top clusters to group feat path\n",
    "top_activations.to_csv(group_stats_path+'/activation-ROI-stats-thresh'+str(threshold)+'.csv')\n",
    "top_deactivations.to_csv(group_stats_path+'/deactivation-ROI-stats-thresh'+str(threshold)+'.csv')\n",
    "#top_activations.to_csv('/Users/haileytrier/Desktop/activation-cluster-stats-top10-thresh'+str(threshold)+'.csv')\n",
    "#top_deactivations.to_csv('/Users/haileytrier/Desktop/deactivation-cluster-stats-top10-thresh'+str(threshold)+'.csv')"
   ]
  },
  {
   "cell_type": "markdown",
   "id": "8963f7fa",
   "metadata": {},
   "source": [
    "## Method 2. Overlay ROIs over statistical image and get stats from within ROI"
   ]
  },
  {
   "cell_type": "code",
   "execution_count": null,
   "id": "99f9d873",
   "metadata": {},
   "outputs": [],
   "source": [
    "all_cluster_stats = pd.DataFrame(columns=['zstat','stat_type','roi','min_z','max_z','n_voxels','x_mm','y_mm','z_mm'])\n",
    "ROIs = ['ACC_cluster_cope7','Ce_amygdala','DRN','HB','insular_cortex_cope7','NAc','PAG','pulvinar','s_colliculus','VTA_SN']\n",
    "roi_path = '/Volumes/MyPassport/Hailey_data_preproc/fMRI_data/group_analyses/masks/selected_masks_for_ROI_analysis/1.5mm/'\n",
    "\n",
    "for path in all_zstat_dir:\n",
    "    zstat_num = int(path.split('/')[-1].strip('.feat').strip('cope'))\n",
    "    # print(\"Running cluster stats for zstat \", zstat_num)\n",
    "\n",
    "    im1 = path + '/thresh_zstat1.nii.gz' # '/stats/zstat1.nii.gz'\n",
    "    im2 = path + '/thresh_zstat2.nii.gz' # '/stats/zstat2.nii.gz'\n",
    "    \n",
    "    if exists(im1) and exists(im2):\n",
    "        for r in ROIs: # check if each thresholded image overlaps with this ROI\n",
    "            # Image 1 (activations)\n",
    "            range_output, vol_output, coord_mm = get_fslstats_output(im1, roi_path+r+'_bin.nii.gz')\n",
    "            t1 = format_fslstats_output(range_output, vol_output, coord_mm, zstat_num, 'activation', r)\n",
    "            all_cluster_stats = pd.concat([all_cluster_stats, t1], ignore_index=True)\n",
    "\n",
    "            # Image 2 (deactivations)\n",
    "            range_output, vol_output, coord_mm = get_fslstats_output(im2, roi_path+r+'_bin.nii.gz')\n",
    "            t2 = format_fslstats_output(range_output, vol_output, coord_mm, zstat_num, 'deactivation', r)\n",
    "            all_cluster_stats = pd.concat([all_cluster_stats, t2], ignore_index=True)"
   ]
  },
  {
   "cell_type": "code",
   "execution_count": null,
   "id": "86f80d63",
   "metadata": {},
   "outputs": [],
   "source": [
    "all_cluster_stats"
   ]
  },
  {
   "cell_type": "code",
   "execution_count": null,
   "id": "088be739",
   "metadata": {},
   "outputs": [],
   "source": [
    "top_activations = all_cluster_stats.loc[all_cluster_stats.stat_type=='activation',:]\n",
    "top_activations = top_activations.sort_values(by=['zstat'])\n",
    "\n",
    "top_deactivations = all_cluster_stats.loc[all_cluster_stats.stat_type=='deactivation',:]\n",
    "top_deactivations = top_deactivations.sort_values(by=['zstat'])"
   ]
  },
  {
   "cell_type": "code",
   "execution_count": null,
   "id": "ac5b2345",
   "metadata": {},
   "outputs": [],
   "source": [
    "top_activations"
   ]
  },
  {
   "cell_type": "markdown",
   "id": "c142e5c6",
   "metadata": {},
   "source": [
    "#### Save to file\n"
   ]
  },
  {
   "cell_type": "code",
   "execution_count": null,
   "id": "ddedbb4b",
   "metadata": {},
   "outputs": [],
   "source": [
    "# Save info about top clusters to group feat path\n",
    "top_activations.to_csv(group_stats_path+'/activation-ROI-stats-thresh'+str(threshold)+'.csv')\n",
    "top_deactivations.to_csv(group_stats_path+'/deactivation-ROI-stats-thresh'+str(threshold)+'.csv')\n",
    "#top_activations.to_csv('/Users/haileytrier/Desktop/activation-cluster-stats-top10-thresh'+str(threshold)+'.csv')\n",
    "#top_deactivations.to_csv('/Users/haileytrier/Desktop/deactivation-cluster-stats-top10-thresh'+str(threshold)+'.csv')"
   ]
  }
 ],
 "metadata": {
  "kernelspec": {
   "display_name": "Python 3 (ipykernel)",
   "language": "python",
   "name": "python3"
  },
  "language_info": {
   "codemirror_mode": {
    "name": "ipython",
    "version": 3
   },
   "file_extension": ".py",
   "mimetype": "text/x-python",
   "name": "python",
   "nbconvert_exporter": "python",
   "pygments_lexer": "ipython3",
   "version": "3.9.10"
  }
 },
 "nbformat": 4,
 "nbformat_minor": 5
}
