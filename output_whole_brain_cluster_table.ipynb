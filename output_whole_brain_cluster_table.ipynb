{
 "cells": [
  {
   "cell_type": "markdown",
   "id": "420d7873",
   "metadata": {},
   "source": [
    "#### This script reads in zstat images from group-level feat results and outputs tables listing all significant clusters and the relevant statistics. You can choose to output a cluster table that lists either 1) all clusters found by feat, or 2) all clusters that overlap with ROI masks."
   ]
  },
  {
   "cell_type": "code",
   "execution_count": null,
   "id": "505f4005",
   "metadata": {},
   "outputs": [],
   "source": [
    "import glob\n",
    "import subprocess\n",
    "from os.path import exists\n",
    "import pandas as pd\n",
    "import numpy as np\n",
    "\n",
    "#group_stats_path = '/Volumes/MyPassport/Hailey_data_preproc/fMRI_data/group_analyses/group_stats_3May22_N23_motionRegressors_Z3.1_p0.001_FLAME1+2_noTempDerivs_modelv3.gfeat/'\n",
    "group_stats_path = '/Volumes/MyPassport/Hailey_data_preproc/fMRI_data/group_analyses/group_stats_3May22_N23_motionRegressors_Z3.1_p0.0001_FLAME1+2_noTempDerivs_modelv3.gfeat/'\n",
    "all_zstat_dir = glob.glob(group_stats_path + 'cope*.feat')\n",
    "threshold = 0.0001\n",
    "filter_clusters = False # print out only e.g. top 10 largest clusters?"
   ]
  },
  {
   "cell_type": "markdown",
   "id": "7036dbb8",
   "metadata": {},
   "source": [
    "Function toolbox"
   ]
  },
  {
   "cell_type": "code",
   "execution_count": null,
   "id": "9f4643d1",
   "metadata": {},
   "outputs": [],
   "source": [
    "def format_cluster_output(output, zstat_num, stat_type):\n",
    "    # output = raw output of cluster function;\n",
    "    # zstat_num = number corresponding to cope image\n",
    "    # zstat_type = \"activation\" or \"deactivation\", depending on type of statistical image\n",
    "    t = [x.split('\\t') for x in output.decode('utf-8').split('\\n')]\n",
    "    t = pd.DataFrame(t[1:-1], columns=t[0]) # omit first and last lines; these are col names & blank line respectively\n",
    "    t['zstat'] = zstat_num\n",
    "    t['stat_type'] = stat_type\n",
    "    return t\n",
    "\n",
    "def add_atlas_info(df, atlas_name):\n",
    "    # df = a pandas dataframe that has been formatted by format_cluster_output()\n",
    "    # atlas_name = an fsl atlas (str)\n",
    "    df[atlas_name] = np.nan\n",
    "    for c in range(len(df)):\n",
    "        coords = ''.join([df.loc[c,\"MAX X (mm)\"]+','+df.loc[c,\"MAX Y (mm)\"]+','+df.loc[c,\"MAX Z (mm)\"]])\n",
    "        output = subprocess.check_output(['atlasquery','-a',atlas_name,'-c',coords]).decode('utf-8')\n",
    "        output = output.strip('\\n').split('<br>')[-1]\n",
    "        df.loc[c,atlas_name] = output\n",
    "    return df\n",
    "\n",
    "def get_fslstats_output(image, roi):\n",
    "    # image = path to a thresholded stats image\n",
    "    # roi = path to an roi mask\n",
    "    # Outputs: volume of overlap between image & roi, plus coordinates & value of max voxel\n",
    "    range_output = subprocess.check_output(['fslstats',image,'-k',roi,'-R'])\n",
    "    vol_output = subprocess.check_output(['fslstats',image,'-k',roi,'-V']) # get volume of nonzero voxels\n",
    "\n",
    "    coord_vox = subprocess.check_output(['fslstats',image,'-k',roi,'-x']) # get coordinates of maximum voxel\n",
    "    coord_vox = [int(x) for x in coord_vox.decode('utf-8').strip(' \\n').split(' ')] # format\n",
    "    ps = subprocess.run(['echo',str(coord_vox[0]),str(coord_vox[1]),str(coord_vox[2])], check=True, capture_output=True)\n",
    "    coord_mm = subprocess.run(['img2stdcoord','-img',image,'-std',image,'-vox'], # convert to MNI coordinates\n",
    "                      input=ps.stdout, capture_output=True)\n",
    "    coord_mm = [int(x) for x in coord_mm.stdout.decode('utf-8').strip('\\n').split(' ') if x !='']\n",
    "    \n",
    "    return range_output, vol_output, coord_mm\n",
    "\n",
    "def format_fslstats_output(range_output, vol_output, coord_mm, cluster_ind, zstat_num, stat_type, r):\n",
    "    # range_output, vol_output, coord_mm = outputs of fslstats function;\n",
    "    # zstat_num = number corresponding to cope image\n",
    "    # zstat_type = \"activation\" or \"deactivation\", depending on type of statistical image\n",
    "    # r = str representing roi name\n",
    "    t = pd.DataFrame(columns=['zstat','stat_type','roi','min_z','max_z','n_voxels','x_mm','y_mm','z_mm','Cluster_index'])\n",
    "    # Get range\n",
    "    range_output = range_output.decode('utf-8').strip('\\n').split(' ')\n",
    "    maxval = float(range_output[1])\n",
    "    minval = float(range_output[0])\n",
    "    if (maxval==0) & (minval==0):\n",
    "        maxval = 'N/A'\n",
    "        minval = 'N/A'\n",
    "    \n",
    "    if maxval != 'N/A':\n",
    "        # Get volume\n",
    "        vol_output = float(vol_output.decode('utf-8').strip('\\n').split(' ')[0])\n",
    "\n",
    "        # Save to dataframe\n",
    "        t.loc[0,'zstat'] = zstat_num\n",
    "        t.loc[0,'stat_type'] = stat_type\n",
    "        t.loc[0,'roi'] = r\n",
    "        t.loc[0,'min_z'] = minval\n",
    "        t.loc[0,'max_z'] = maxval\n",
    "        t.loc[0,'n_voxels'] = vol_output # 'N/A' if maxval=='N/A' else vol_output\n",
    "        t.loc[0,'x_mm'] = coord_mm[0] # 'N/A' if maxval=='N/A' else coord_mm[0]\n",
    "        t.loc[0,'y_mm'] = coord_mm[1] # 'N/A' if maxval=='N/A' else coord_mm[1]\n",
    "        t.loc[0,'z_mm'] = coord_mm[2] # 'N/A' if maxval=='N/A' else coord_mm[2]\n",
    "        t.loc[0,'Cluster_index'] = cluster_ind\n",
    "    return t"
   ]
  },
  {
   "cell_type": "markdown",
   "id": "f0257834",
   "metadata": {},
   "source": [
    "## Method 1. Get stats from all clusters in each zstat image\n",
    "This will output a table that shows each cluster, the zstat image it came from, the max Z stat from that cluster, x/y/z coordinates from the max voxel, and whether it's an activation or deactivation"
   ]
  },
  {
   "cell_type": "code",
   "execution_count": null,
   "id": "178fc635",
   "metadata": {},
   "outputs": [],
   "source": [
    "all_cluster_stats = pd.DataFrame(columns=['Cluster Index', 'Voxels', 'MAX', 'MAX X (mm)', 'MAX Y (mm)',\n",
    "       'MAX Z (mm)', 'COG X (mm)', 'COG Y (mm)', 'COG Z (mm)', 'zstat',\n",
    "       'stat_type']) # Use this format if you want to output MNI coordinates instead of voxel location\n",
    "# all_cluster_stats = pd.DataFrame(columns=['Cluster Index', 'Voxels', 'MAX', 'MAX X (vox)', 'MAX Y (vox)',\n",
    "#        'MAX Z (vox)', 'COG X (vox)', 'COG Y (vox)', 'COG Z (vox)', 'zstat',\n",
    "#        'stat_type'])\n",
    "for path in all_zstat_dir:\n",
    "    zstat_num = int(path.split('/')[-1].strip('.feat').strip('cope'))\n",
    "    # print(\"Running cluster stats for zstat \", zstat_num)\n",
    "\n",
    "    im1 = path + '/thresh_zstat1.nii.gz' # '/stats/zstat1.nii.gz'\n",
    "    im2 = path + '/thresh_zstat2.nii.gz' # '/stats/zstat2.nii.gz'\n",
    "    \n",
    "    if exists(im1) and exists(im2):\n",
    "        output = subprocess.check_output(['cluster','-i',im1,'-t',str(threshold),'--mm']) # --mm tag outputs MNI coordinates\n",
    "        t1 = format_cluster_output(output, zstat_num, 'activation')\n",
    "\n",
    "        output = subprocess.check_output(['cluster','-i',im2,'-t',str(threshold),'--mm'])\n",
    "        t2 = format_cluster_output(output, zstat_num, 'deactivation')\n",
    "        \n",
    "        all_cluster_stats = pd.concat([all_cluster_stats, t1], ignore_index=True)\n",
    "        all_cluster_stats = pd.concat([all_cluster_stats, t2], ignore_index=True)"
   ]
  },
  {
   "cell_type": "markdown",
   "id": "1a25a266",
   "metadata": {},
   "source": [
    "Optional: Constrain to only the top 10 biggest clusters from each zstat image:"
   ]
  },
  {
   "cell_type": "code",
   "execution_count": null,
   "id": "c67e73ba",
   "metadata": {},
   "outputs": [],
   "source": [
    "if filter_clusters:\n",
    "    top_thresh = 10\n",
    "    all_cluster_stats['Cluster Index'] = [int(x) for x in all_cluster_stats['Cluster Index']]\n",
    "\n",
    "    # Sort out activations\n",
    "    top_activations = pd.DataFrame(columns=all_cluster_stats.columns)\n",
    "    for z in all_cluster_stats.zstat.unique():\n",
    "        temp = all_cluster_stats.loc[(all_cluster_stats.zstat==z) & (all_cluster_stats.stat_type=='activation'),:]\n",
    "        temp = temp.reset_index()\n",
    "        if len(temp) > 0:\n",
    "            max_cluster_val = max(temp['Cluster Index'])\n",
    "            top_cluster_inds = [x for x in range(len(temp)) if temp['Cluster Index'][x] > (max_cluster_val-top_thresh)]\n",
    "            top_activations = pd.concat([top_activations,temp.loc[top_cluster_inds,:]], ignore_index=True)\n",
    "    top_activations = top_activations.sort_values(by=['zstat','Cluster Index','stat_type'])\n",
    "    top_activations = top_activations.reset_index()\n",
    "\n",
    "    top_deactivations = pd.DataFrame(columns=all_cluster_stats.columns)\n",
    "    for z in all_cluster_stats.zstat.unique():\n",
    "        temp = all_cluster_stats.loc[(all_cluster_stats.zstat==z) & (all_cluster_stats.stat_type=='deactivation'),:]\n",
    "        temp = temp.reset_index()\n",
    "        if len(temp) > 0:\n",
    "            max_cluster_val = max(temp['Cluster Index'])\n",
    "            top_cluster_inds = [x for x in range(len(temp)) if temp['Cluster Index'][x] > (max_cluster_val-top_thresh)]\n",
    "            top_deactivations = pd.concat([top_deactivations,temp.loc[top_cluster_inds,:]], ignore_index=True)\n",
    "    top_deactivations = top_deactivations.sort_values(by=['zstat','Cluster Index','stat_type'])\n",
    "    top_deactivations = top_deactivations.reset_index()\n",
    "else:\n",
    "    top_activations = all_cluster_stats.loc[all_cluster_stats.stat_type=='activation',:]\n",
    "    top_activations = top_activations.sort_values(by=['zstat','Cluster Index','stat_type'])\n",
    "    \n",
    "    top_deactivations = all_cluster_stats.loc[all_cluster_stats.stat_type=='deactivation',:]\n",
    "    top_deactivations = top_deactivations.sort_values(by=['zstat','Cluster Index','stat_type'])"
   ]
  },
  {
   "cell_type": "markdown",
   "id": "79a74657",
   "metadata": {},
   "source": [
    "Optional: Add atlas information for each cluster (subcortical & cortical). (This takes a while)"
   ]
  },
  {
   "cell_type": "code",
   "execution_count": null,
   "id": "5d978781",
   "metadata": {},
   "outputs": [],
   "source": [
    "# atlas1 = 'Harvard-Oxford Subcortical Structural Atlas'\n",
    "# atlas2 = 'Harvard-Oxford Cortical Structural Atlas'\n",
    "\n",
    "# top_activations = add_atlas_info(top_activations, atlas1)\n",
    "# top_activations = add_atlas_info(top_activations, atlas2)\n",
    "# top_deactivations = add_atlas_info(top_deactivations, atlas1)\n",
    "# top_deactivations = add_atlas_info(top_deactivations, atlas2)"
   ]
  },
  {
   "cell_type": "markdown",
   "id": "71f0ad1d",
   "metadata": {},
   "source": [
    "Save to file"
   ]
  },
  {
   "cell_type": "code",
   "execution_count": null,
   "id": "f6e0c1e9",
   "metadata": {},
   "outputs": [],
   "source": [
    "# Save info about top clusters to group feat path\n",
    "top_activations.to_csv(group_stats_path+'/activation-ROI-stats-thresh'+str(threshold)+'.csv')\n",
    "top_deactivations.to_csv(group_stats_path+'/deactivation-ROI-stats-thresh'+str(threshold)+'.csv')"
   ]
  },
  {
   "cell_type": "markdown",
   "id": "8963f7fa",
   "metadata": {},
   "source": [
    "## Method 2. Overlay ROIs over statistical image and get stats from within ROI\n",
    "This will output a table that lists, for each ROI and each zstat image, whether there is any overlap between significant clusters in that zstat image and the ROI mask; if so, it will list in the table the number of voxels overlapping, the value and coordinates of the maximum voxel in the overlapping area, and the index of the cluster."
   ]
  },
  {
   "cell_type": "markdown",
   "id": "9a3e8fd8",
   "metadata": {},
   "source": [
    "First create a copy of each zstat image with clusters indexed. This will allow us to determine, for each ROI, the index of the cluster that overlaps with it:"
   ]
  },
  {
   "cell_type": "code",
   "execution_count": null,
   "id": "51c5073d",
   "metadata": {},
   "outputs": [],
   "source": [
    "for path in all_zstat_dir:\n",
    "    im1 = path+'/thresh_zstat1.nii.gz'\n",
    "    im2 = path+'/thresh_zstat2.nii.gz'\n",
    "    \n",
    "    if exists(im1) and exists(im2):\n",
    "        subprocess.check_output(['cluster','-i',im1,'-t',str(threshold),'-o',path+'/thresh_zstat1_indexed.nii.gz','--no_table'])\n",
    "        subprocess.check_output(['cluster','-i',im2,'-t',str(threshold),'-o',path+'/thresh_zstat2_indexed.nii.gz','--no_table'])"
   ]
  },
  {
   "cell_type": "markdown",
   "id": "d0894cad",
   "metadata": {},
   "source": [
    "Next search through each zstat image and determine whether any clusters overlap with each ROI. NOTE: your ROI masks must be binarized for this to work."
   ]
  },
  {
   "cell_type": "code",
   "execution_count": null,
   "id": "99f9d873",
   "metadata": {},
   "outputs": [],
   "source": [
    "all_cluster_stats = pd.DataFrame(columns=['zstat','stat_type','roi','min_z','max_z','n_voxels','x_mm','y_mm','z_mm','Cluster_index'])\n",
    "ROIs = ['ACC_cluster_cope7','Ce_amygdala','DRN','HB','insular_cortex_cope7','NAc','PAG','pulvinar','s_colliculus','VTA_SN']\n",
    "roi_path = '/Volumes/MyPassport/Hailey_data_preproc/fMRI_data/group_analyses/masks/selected_masks_for_ROI_analysis/1.5mm/'\n",
    "\n",
    "for path in all_zstat_dir:\n",
    "    zstat_num = int(path.split('/')[-1].strip('.feat').strip('cope'))\n",
    "    # print(\"Running cluster stats for zstat \", zstat_num)\n",
    "\n",
    "    im1 = path + '/thresh_zstat1.nii.gz' # '/stats/zstat1.nii.gz'\n",
    "    im2 = path + '/thresh_zstat2.nii.gz' # '/stats/zstat2.nii.gz'\n",
    "    \n",
    "    if exists(im1) and exists(im2):\n",
    "        for r in ROIs: # check if each thresholded image overlaps with this ROI\n",
    "            # Image 1 (activations)\n",
    "            range_output, vol_output, coord_mm = get_fslstats_output(im1, roi_path+r+'_bin.nii.gz') # Make sure you select the binarized mask version\n",
    "            # Get cluster index\n",
    "            if float(vol_output.decode('utf-8').strip('\\n').split(' ')[0])!=0: # if ROI overlaps, get index of cluster\n",
    "                im_ind = path + '/thresh_zstat1_indexed.nii.gz'\n",
    "                cluster_ind = subprocess.check_output(['fslstats',im_ind,'-k',roi_path+r+'_bin.nii.gz','-M'])\n",
    "                cluster_ind = int(float(cluster_ind.decode('utf-8').strip(' \\n')))\n",
    "            else:\n",
    "                cluster_ind = 'N/A'\n",
    "            t1 = format_fslstats_output(range_output, vol_output, coord_mm, cluster_ind, zstat_num, 'activation', r)\n",
    "            all_cluster_stats = pd.concat([all_cluster_stats, t1], ignore_index=True)\n",
    "\n",
    "            # Image 2 (deactivations)\n",
    "            range_output, vol_output, coord_mm = get_fslstats_output(im2, roi_path+r+'_bin.nii.gz')\n",
    "            # Get cluster index\n",
    "            if float(vol_output.decode('utf-8').strip('\\n').split(' ')[0])!=0: # if ROI overlaps, get index of cluster\n",
    "                im_ind = path + '/thresh_zstat2_indexed.nii.gz'\n",
    "                cluster_ind = subprocess.check_output(['fslstats',im_ind,'-k',roi_path+r+'_bin.nii.gz','-M'])\n",
    "                cluster_ind = int(float(cluster_ind.decode('utf-8').strip(' \\n')))\n",
    "            else:\n",
    "                cluster_ind = 'N/A'\n",
    "            t2 = format_fslstats_output(range_output, vol_output, coord_mm, cluster_ind, zstat_num, 'deactivation', r)\n",
    "            all_cluster_stats = pd.concat([all_cluster_stats, t2], ignore_index=True)"
   ]
  },
  {
   "cell_type": "code",
   "execution_count": null,
   "id": "86f80d63",
   "metadata": {},
   "outputs": [],
   "source": [
    "all_cluster_stats = all_cluster_stats.sort_values(by=['zstat','stat_type','Cluster_index'])\n",
    "all_cluster_stats"
   ]
  },
  {
   "cell_type": "markdown",
   "id": "c142e5c6",
   "metadata": {},
   "source": [
    "Save to file\n"
   ]
  },
  {
   "cell_type": "code",
   "execution_count": null,
   "id": "088be739",
   "metadata": {},
   "outputs": [],
   "source": [
    "sort_activations = False\n",
    "if sort_activations:\n",
    "    top_activations = all_cluster_stats.loc[all_cluster_stats.stat_type=='activation',:]\n",
    "    top_activations = top_activations.sort_values(by=['zstat'])\n",
    "\n",
    "    top_deactivations = all_cluster_stats.loc[all_cluster_stats.stat_type=='deactivation',:]\n",
    "    top_deactivations = top_deactivations.sort_values(by=['zstat'])\n",
    "    \n",
    "    top_activations.to_csv(group_stats_path+'/activation-ROI-stats-thresh'+str(threshold)+'.csv')\n",
    "    top_deactivations.to_csv(group_stats_path+'/deactivation-ROI-stats-thresh'+str(threshold)+'.csv')\n",
    "else:\n",
    "    all_cluster_stats.to_csv(group_stats_path+'/all-ROI-stats-indexed-thresh'+str(threshold)+'.csv')"
   ]
  }
 ],
 "metadata": {
  "kernelspec": {
   "display_name": "Python 3 (ipykernel)",
   "language": "python",
   "name": "python3"
  },
  "language_info": {
   "codemirror_mode": {
    "name": "ipython",
    "version": 3
   },
   "file_extension": ".py",
   "mimetype": "text/x-python",
   "name": "python",
   "nbconvert_exporter": "python",
   "pygments_lexer": "ipython3",
   "version": "3.9.10"
  }
 },
 "nbformat": 4,
 "nbformat_minor": 5
}
