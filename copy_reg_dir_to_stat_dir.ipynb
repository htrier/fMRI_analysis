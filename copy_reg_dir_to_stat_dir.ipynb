{
 "cells": [
  {
   "cell_type": "markdown",
   "id": "32395b7b",
   "metadata": {},
   "source": [
    "This script copies the /reg/ folder from a feat preprocessing directory into another directory. This is usually necessary if you have saved statistics in a different directory from the preprocessing and need to run group-level stats."
   ]
  },
  {
   "cell_type": "code",
   "execution_count": null,
   "id": "d8391dda",
   "metadata": {},
   "outputs": [],
   "source": [
    "import shutil\n",
    "import glob\n",
    "\n",
    "root = '/Volumes/MyPassport/Hailey_data_preproc/fMRI_data/preprocess/'\n",
    "exclude = ['sub113']\n",
    "all_subj_dir = [x for x in glob.glob(root + 'sub*') if not any(j in x for j in exclude)]\n",
    "print(all_subj_dir)"
   ]
  },
  {
   "cell_type": "code",
   "execution_count": null,
   "id": "21f062af",
   "metadata": {},
   "outputs": [],
   "source": [
    "stats_folder = 'L1stats_10Mar2022_tempDerivs_noMotionOutliers.feat'\n",
    "for subj_path in all_subj_dir[1:]:\n",
    "    subj_name = subj_path.split('/')[-1]\n",
    "    print(\"Starting \", subj_name)\n",
    "    src = [x for x in glob.glob(subj_path + '/prepro*.feat')][0] + '/reg'\n",
    "    dst = subj_path + '/' + stats_folder + '/reg'\n",
    "    shutil.copytree(src, dst)\n",
    "    print(\"Done with \", subj_name)"
   ]
  }
 ],
 "metadata": {
  "kernelspec": {
   "display_name": "Python 3",
   "language": "python",
   "name": "python3"
  },
  "language_info": {
   "codemirror_mode": {
    "name": "ipython",
    "version": 3
   },
   "file_extension": ".py",
   "mimetype": "text/x-python",
   "name": "python",
   "nbconvert_exporter": "python",
   "pygments_lexer": "ipython3",
   "version": "3.8.8"
  }
 },
 "nbformat": 4,
 "nbformat_minor": 5
}
