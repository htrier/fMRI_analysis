{
 "cells": [
  {
   "cell_type": "code",
   "execution_count": null,
   "id": "49bdcd7d",
   "metadata": {},
   "outputs": [],
   "source": [
    "import glob\n",
    "import os\n",
    "import subprocess\n",
    "from datetime import datetime\n",
    "\n",
    "all_subj_path = '/Volumes/MyPassport/Hailey_data_preproc/fMRI_data/'\n",
    "os.chdir(all_subj_path)\n",
    "subj_folders = glob.glob('sub*') \n",
    "\n",
    "# Exclude subjects if desired\n",
    "exclude_subjects = ['sub121']\n",
    "subj_folders = [subj_folders[x] for x in range(len(subj_folders)) if subj_folders[x] not in exclude_subjects]\n",
    "\n",
    "fsf_filename = 'L1stats_10Mar2022_tempDerivs_noMotionOutliers_passport.fsf'#'L1stats_27Feb2022.fsf' 'prepro_v2_21Feb2022.fsf'"
   ]
  },
  {
   "cell_type": "code",
   "execution_count": null,
   "id": "d58de3a2",
   "metadata": {},
   "outputs": [],
   "source": [
    "# # For parallelization:\n",
    "# import multiprocess as mp\n",
    "\n",
    "# print(\"Number of CPUs available:\", mp.cpu_count())\n",
    "# nCores = 8 # number of cores to use\n",
    "\n",
    "# def runFeat(fsf_path):\n",
    "#    subprocess.Popen(['feat', fsf_path], stdout=subprocess.PIPE, stderr=subprocess.PIPE)"
   ]
  },
  {
   "cell_type": "code",
   "execution_count": null,
   "id": "56eba987",
   "metadata": {},
   "outputs": [],
   "source": [
    "fsf_paths = []\n",
    "for subj in subj_folders:\n",
    "    # fsf_paths.append(all_subj_path+subj+'/'+fsf_filename)\n",
    "    fsf_paths.append(all_subj_path+subj+'/regressors_23Feb2022/'+fsf_filename)\n",
    "\n",
    "print(\"fsf paths:\\n\",fsf_paths)"
   ]
  },
  {
   "cell_type": "code",
   "execution_count": null,
   "id": "82dd61ee",
   "metadata": {},
   "outputs": [],
   "source": [
    "# To run in parallel:\n",
    "\n",
    "#https://docs.python.org/3.4/library/multiprocessing.html?highlight=process\n",
    "#with mp.Pool(nCores) as pool:\n",
    "#    pool.map(runFeat, fsf_paths[0:5])"
   ]
  },
  {
   "cell_type": "code",
   "execution_count": null,
   "id": "cc150a49",
   "metadata": {},
   "outputs": [],
   "source": [
    "# To run sequentially (jupyter notebook will start the next feat immediately after the previous finishes):\n",
    "\n",
    "for fpath in fsf_paths:\n",
    "    subj_name=fpath.strip(fsf_filename).split('/')[-3]\n",
    "    print(\"Starting feat for\",subj_name,\"|\",datetime.today().strftime(\"%b-%d-%Y\"),\"at\",datetime.now().strftime(\"%H:%M:%S\"))\n",
    "    p = subprocess.Popen(['feat', fpath], stdout=subprocess.PIPE, stderr=subprocess.PIPE)\n",
    "    p.wait()\n",
    "    print(\"Feat for subject\",subj_name,\"completed |\",datetime.today().strftime(\"%b-%d-%Y\"),\"at\",datetime.now().strftime(\"%H:%M:%S\"))"
   ]
  }
 ],
 "metadata": {
  "kernelspec": {
   "display_name": "Python 3",
   "language": "python",
   "name": "python3"
  },
  "language_info": {
   "codemirror_mode": {
    "name": "ipython",
    "version": 3
   },
   "file_extension": ".py",
   "mimetype": "text/x-python",
   "name": "python",
   "nbconvert_exporter": "python",
   "pygments_lexer": "ipython3",
   "version": "3.8.8"
  }
 },
 "nbformat": 4,
 "nbformat_minor": 5
}
